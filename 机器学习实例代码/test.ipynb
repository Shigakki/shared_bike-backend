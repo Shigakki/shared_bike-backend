{
 "cells": [
  {
   "cell_type": "code",
   "execution_count": 4,
   "metadata": {},
   "outputs": [
    {
     "name": "stdout",
     "output_type": "stream",
     "text": [
      "Server listening on localhost:8887...\n"
     ]
    }
   ],
   "source": [
    "import socket\n",
    "import csv\n",
    "\n",
    "def process_csv(csv_data):\n",
    "    points = []\n",
    "    reader = csv.reader(csv_data.splitlines())\n",
    "    for row in reader:\n",
    "        # 在这里进行数据处理和机器学习算法的调用\n",
    "        # 假设每行包含两个值，作为一个点的x和y坐标\n",
    "        x = float(row[0])\n",
    "        y = float(row[1])\n",
    "        points.append((x, y))\n",
    "    return points\n",
    "\n",
    "def handle_client(client_socket):\n",
    "    # 接收客户端发送的数据\n",
    "    csv_data = client_socket.recv(1024).decode('utf-8')\n",
    "    \n",
    "    # 处理数据并进行预测\n",
    "    points = process_csv(csv_data)\n",
    "    \n",
    "    # 将结果转换为字符串\n",
    "    response = '\\n'.join([f'{point[0]},{point[1]}' for point in points])\n",
    "    \n",
    "    # 发送结果给客户端\n",
    "    client_socket.send(response.encode('utf-8'))\n",
    "    \n",
    "    # 关闭客户端连接\n",
    "    client_socket.close()\n",
    "\n",
    "def run_server():\n",
    "    host = 'localhost'  # 服务器主机名或IP地址\n",
    "    port = 8887  # 服务器端口号\n",
    "\n",
    "    # 创建一个TCP套接字\n",
    "    server_socket = socket.socket(socket.AF_INET, socket.SOCK_STREAM)\n",
    "    \n",
    "    # 绑定主机名和端口号\n",
    "    server_socket.bind((host, port))\n",
    "    \n",
    "    # 开始监听客户端连接\n",
    "    server_socket.listen(1)\n",
    "    \n",
    "    print(f'Server listening on {host}:{port}...')\n",
    "    \n",
    "    while True:\n",
    "        # 等待客户端连接\n",
    "        client_socket, client_address = server_socket.accept()\n",
    "        \n",
    "        print(f'Client connected: {client_address[0]}:{client_address[1]}')\n",
    "        \n",
    "        # 处理客户端请求\n",
    "        handle_client(client_socket)\n",
    "\n",
    "run_server()\n"
   ]
  },
  {
   "cell_type": "code",
   "execution_count": null,
   "metadata": {},
   "outputs": [],
   "source": [
    "import socketserver\n",
    "print(\"准备开启socket服务端:\")\n",
    "\n",
    "class myTCPhandler(socketserver.BaseRequestHandler):\n",
    "    def handle(self):\n",
    "        while True:\n",
    "            self.data = self.request.recv(1024).decode('UTF-8', 'ignore').strip()\n",
    "            if not self.data : break\n",
    "            print(self.data)\n",
    "            result = get(str(self.data))\n",
    "            print(\"目前进行处理\")\n",
    "            # result = get(str(self.data))\n",
    "            self.feedback_data =(\"接收到\\\"\"+self.data+\"\\\":Server端\\n\"+str(result)).encode(\"utf8\")\n",
    "            # self.feedback_data =(str(result)).encode(\"utf8\")\n",
    "            print(\"发送成功\")\n",
    "            self.request.sendall(self.feedback_data)\n",
    "\n",
    "host = '127.0.0.1'\n",
    "port = 9006\n",
    "server = socketserver.ThreadingTCPServer((host,port),myTCPhandler)\n",
    "server.serve_forever()"
   ]
  }
 ],
 "metadata": {
  "kernelspec": {
   "display_name": "base",
   "language": "python",
   "name": "python3"
  },
  "language_info": {
   "codemirror_mode": {
    "name": "ipython",
    "version": 3
   },
   "file_extension": ".py",
   "mimetype": "text/x-python",
   "name": "python",
   "nbconvert_exporter": "python",
   "pygments_lexer": "ipython3",
   "version": "3.9.13"
  },
  "orig_nbformat": 4
 },
 "nbformat": 4,
 "nbformat_minor": 2
}
