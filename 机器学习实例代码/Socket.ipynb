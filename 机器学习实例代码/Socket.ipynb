{
 "cells": [
  {
   "attachments": {},
   "cell_type": "markdown",
   "metadata": {},
   "source": [
    "# 以下是具体使用的包包装成Socket服务代码"
   ]
  },
  {
   "attachments": {},
   "cell_type": "markdown",
   "metadata": {},
   "source": [
    "## 此处是具体的机器学习代码"
   ]
  },
  {
   "cell_type": "code",
   "execution_count": null,
   "metadata": {},
   "outputs": [],
   "source": [
    "def theML(csvPath):\n",
    "    List = [(55.6,89.6),(566.6,64.6)]\n",
    "    return List"
   ]
  },
  {
   "attachments": {},
   "cell_type": "markdown",
   "metadata": {},
   "source": [
    "## 此处为Socket服务包装"
   ]
  },
  {
   "cell_type": "code",
   "execution_count": 1,
   "metadata": {},
   "outputs": [
    {
     "name": "stdout",
     "output_type": "stream",
     "text": [
      "准备开启socket服务端:\n",
      "shared-bike-backend/common/bike_positions.csv\n",
      "目前进行处理\n",
      "接收到\"shared-bike-backend/common/bike_positions.csv\":Server端返回的是\n",
      "[(55.6, 89.6), (566.6, 64.6)]\n",
      "发送成功\n",
      "发送成功\n"
     ]
    },
    {
     "name": "stderr",
     "output_type": "stream",
     "text": [
      "----------------------------------------\n",
      "Exception occurred during processing of request from ('127.0.0.1', 12851)\n",
      "Traceback (most recent call last):\n",
      "  File \"d:\\CodeS\\Anaconda\\lib\\socketserver.py\", line 683, in process_request_thread\n",
      "    self.finish_request(request, client_address)\n",
      "  File \"d:\\CodeS\\Anaconda\\lib\\socketserver.py\", line 360, in finish_request\n",
      "    self.RequestHandlerClass(request, client_address, self)\n",
      "  File \"d:\\CodeS\\Anaconda\\lib\\socketserver.py\", line 747, in __init__\n",
      "    self.handle()\n",
      "  File \"C:\\Users\\18314\\AppData\\Local\\Temp\\ipykernel_48624\\500742788.py\", line 13, in handle\n",
      "    self.data = self.request.recv(1024).decode('UTF-8', 'ignore').strip()\n",
      "ConnectionResetError: [WinError 10054] 远程主机强迫关闭了一个现有的连接。\n",
      "----------------------------------------\n"
     ]
    },
    {
     "name": "stdout",
     "output_type": "stream",
     "text": [
      "shared-bike-backend/common/bike_positions.csv\n",
      "目前进行处理\n",
      "接收到\"shared-bike-backend/common/bike_positions.csv\":Server端返回的是\n",
      "[(55.6, 89.6), (566.6, 64.6)]\n",
      "发送成功\n",
      "发送成功\n"
     ]
    },
    {
     "name": "stderr",
     "output_type": "stream",
     "text": [
      "----------------------------------------\n",
      "Exception occurred during processing of request from ('127.0.0.1', 12938)\n",
      "Traceback (most recent call last):\n",
      "  File \"d:\\CodeS\\Anaconda\\lib\\socketserver.py\", line 683, in process_request_thread\n",
      "    self.finish_request(request, client_address)\n",
      "  File \"d:\\CodeS\\Anaconda\\lib\\socketserver.py\", line 360, in finish_request\n",
      "    self.RequestHandlerClass(request, client_address, self)\n",
      "  File \"d:\\CodeS\\Anaconda\\lib\\socketserver.py\", line 747, in __init__\n",
      "    self.handle()\n",
      "  File \"C:\\Users\\18314\\AppData\\Local\\Temp\\ipykernel_48624\\500742788.py\", line 13, in handle\n",
      "    self.data = self.request.recv(1024).decode('UTF-8', 'ignore').strip()\n",
      "ConnectionResetError: [WinError 10054] 远程主机强迫关闭了一个现有的连接。\n",
      "----------------------------------------\n"
     ]
    },
    {
     "name": "stdout",
     "output_type": "stream",
     "text": [
      "shared-bike-backend/common/bike_positions.csv\n",
      "目前进行处理\n",
      "接收到\"shared-bike-backend/common/bike_positions.csv\":Server端返回的是\n",
      "[(55.6, 89.6), (566.6, 64.6)]\n",
      "发送成功\n",
      "发送成功\n"
     ]
    },
    {
     "ename": "KeyboardInterrupt",
     "evalue": "",
     "output_type": "error",
     "traceback": [
      "\u001b[1;31m---------------------------------------------------------------------------\u001b[0m",
      "\u001b[1;31mKeyboardInterrupt\u001b[0m                         Traceback (most recent call last)",
      "Cell \u001b[1;32mIn[1], line 31\u001b[0m\n\u001b[0;32m     29\u001b[0m port \u001b[39m=\u001b[39m \u001b[39m8081\u001b[39m\n\u001b[0;32m     30\u001b[0m server \u001b[39m=\u001b[39m socketserver\u001b[39m.\u001b[39mThreadingTCPServer((host,port),myTCPhandler)\n\u001b[1;32m---> 31\u001b[0m server\u001b[39m.\u001b[39;49mserve_forever()\n",
      "File \u001b[1;32md:\\CodeS\\Anaconda\\lib\\socketserver.py:232\u001b[0m, in \u001b[0;36mBaseServer.serve_forever\u001b[1;34m(self, poll_interval)\u001b[0m\n\u001b[0;32m    229\u001b[0m selector\u001b[39m.\u001b[39mregister(\u001b[39mself\u001b[39m, selectors\u001b[39m.\u001b[39mEVENT_READ)\n\u001b[0;32m    231\u001b[0m \u001b[39mwhile\u001b[39;00m \u001b[39mnot\u001b[39;00m \u001b[39mself\u001b[39m\u001b[39m.\u001b[39m__shutdown_request:\n\u001b[1;32m--> 232\u001b[0m     ready \u001b[39m=\u001b[39m selector\u001b[39m.\u001b[39;49mselect(poll_interval)\n\u001b[0;32m    233\u001b[0m     \u001b[39m# bpo-35017: shutdown() called during select(), exit immediately.\u001b[39;00m\n\u001b[0;32m    234\u001b[0m     \u001b[39mif\u001b[39;00m \u001b[39mself\u001b[39m\u001b[39m.\u001b[39m__shutdown_request:\n",
      "File \u001b[1;32md:\\CodeS\\Anaconda\\lib\\selectors.py:324\u001b[0m, in \u001b[0;36mSelectSelector.select\u001b[1;34m(self, timeout)\u001b[0m\n\u001b[0;32m    322\u001b[0m ready \u001b[39m=\u001b[39m []\n\u001b[0;32m    323\u001b[0m \u001b[39mtry\u001b[39;00m:\n\u001b[1;32m--> 324\u001b[0m     r, w, _ \u001b[39m=\u001b[39m \u001b[39mself\u001b[39;49m\u001b[39m.\u001b[39;49m_select(\u001b[39mself\u001b[39;49m\u001b[39m.\u001b[39;49m_readers, \u001b[39mself\u001b[39;49m\u001b[39m.\u001b[39;49m_writers, [], timeout)\n\u001b[0;32m    325\u001b[0m \u001b[39mexcept\u001b[39;00m \u001b[39mInterruptedError\u001b[39;00m:\n\u001b[0;32m    326\u001b[0m     \u001b[39mreturn\u001b[39;00m ready\n",
      "File \u001b[1;32md:\\CodeS\\Anaconda\\lib\\selectors.py:315\u001b[0m, in \u001b[0;36mSelectSelector._select\u001b[1;34m(self, r, w, _, timeout)\u001b[0m\n\u001b[0;32m    314\u001b[0m \u001b[39mdef\u001b[39;00m \u001b[39m_select\u001b[39m(\u001b[39mself\u001b[39m, r, w, _, timeout\u001b[39m=\u001b[39m\u001b[39mNone\u001b[39;00m):\n\u001b[1;32m--> 315\u001b[0m     r, w, x \u001b[39m=\u001b[39m select\u001b[39m.\u001b[39;49mselect(r, w, w, timeout)\n\u001b[0;32m    316\u001b[0m     \u001b[39mreturn\u001b[39;00m r, w \u001b[39m+\u001b[39m x, []\n",
      "\u001b[1;31mKeyboardInterrupt\u001b[0m: "
     ]
    }
   ],
   "source": [
    "import socketserver\n",
    "\n",
    "\n",
    "def theML(csvPath):\n",
    "    List = [(55.6,89.6),(566.6,64.6)]\n",
    "    return List\n",
    "\n",
    "print(\"准备开启socket服务端:\")\n",
    "\n",
    "class myTCPhandler(socketserver.BaseRequestHandler):\n",
    "    def handle(self):\n",
    "        while True:\n",
    "            self.data = self.request.recv(1024).decode('UTF-8', 'ignore').strip()\n",
    "            if not self.data : break\n",
    "            print(self.data)\n",
    "            print(\"目前进行处理\")\n",
    "            result = theML(self.data)\n",
    "\n",
    "            print(\"接收到\\\"\"+self.data+\n",
    "                                 \"\\\":Server端返回的是\\n\"+str(result))\n",
    "            print(\"发送成功\")\n",
    "\n",
    "            self.feedback_data =(str(result)).encode(\"utf8\")\n",
    "            print(\"发送成功\")\n",
    "            \n",
    "            self.request.sendall(self.feedback_data)\n",
    "\n",
    "host = '127.0.0.1'\n",
    "port = 8081\n",
    "server = socketserver.ThreadingTCPServer((host,port),myTCPhandler)\n",
    "server.serve_forever()\n"
   ]
  }
 ],
 "metadata": {
  "kernelspec": {
   "display_name": "tensorflow",
   "language": "python",
   "name": "python3"
  },
  "language_info": {
   "codemirror_mode": {
    "name": "ipython",
    "version": 3
   },
   "file_extension": ".py",
   "mimetype": "text/x-python",
   "name": "python",
   "nbconvert_exporter": "python",
   "pygments_lexer": "ipython3",
   "version": "3.9.13"
  },
  "orig_nbformat": 4
 },
 "nbformat": 4,
 "nbformat_minor": 2
}
