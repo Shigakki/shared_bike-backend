{
 "cells": [
  {
   "attachments": {},
   "cell_type": "markdown",
   "metadata": {},
   "source": [
    "# 以下是具体使用的包包装成Socket服务代码"
   ]
  },
  {
   "attachments": {},
   "cell_type": "markdown",
   "metadata": {},
   "source": [
    "## 此处是具体的机器学习代码"
   ]
  },
  {
   "cell_type": "code",
   "execution_count": null,
   "metadata": {},
   "outputs": [],
   "source": [
    "def theML(csvPath):\n",
    "    List = [(55.6,89.6),(566.6,64.6)]\n",
    "    return List"
   ]
  },
  {
   "attachments": {},
   "cell_type": "markdown",
   "metadata": {},
   "source": [
    "## 此处为Socket服务包装"
   ]
  },
  {
   "cell_type": "code",
   "execution_count": 1,
   "metadata": {},
   "outputs": [
    {
     "name": "stdout",
     "output_type": "stream",
     "text": [
      "准备开启socket服务端:\n",
      "shared-bike-backend/common/bike_positions.csv\n",
      "目前进行处理\n"
     ]
    },
    {
     "name": "stderr",
     "output_type": "stream",
     "text": [
      "----------------------------------------\n",
      "Exception occurred during processing of request from ('127.0.0.1', 11472)\n",
      "Traceback (most recent call last):\n",
      "  File \"d:\\CodeS\\Anaconda\\lib\\socketserver.py\", line 683, in process_request_thread\n",
      "    self.finish_request(request, client_address)\n",
      "  File \"d:\\CodeS\\Anaconda\\lib\\socketserver.py\", line 360, in finish_request\n",
      "    self.RequestHandlerClass(request, client_address, self)\n",
      "  File \"d:\\CodeS\\Anaconda\\lib\\socketserver.py\", line 747, in __init__\n",
      "    self.handle()\n",
      "  File \"C:\\Users\\18314\\AppData\\Local\\Temp\\ipykernel_44816\\2855476050.py\", line 17, in handle\n",
      "    result = theML(self.data)\n",
      "NameError: name 'theML' is not defined\n",
      "----------------------------------------\n"
     ]
    }
   ],
   "source": [
    "import socketserver\n",
    "\n",
    "\n",
    "def theML(csvPath):\n",
    "    List = [(55.6,89.6),(566.6,64.6)]\n",
    "    return List\n",
    "\n",
    "print(\"准备开启socket服务端:\")\n",
    "\n",
    "class myTCPhandler(socketserver.BaseRequestHandler):\n",
    "    def handle(self):\n",
    "        while True:\n",
    "            self.data = self.request.recv(1024).decode('UTF-8', 'ignore').strip()\n",
    "            if not self.data : break\n",
    "            print(self.data)\n",
    "            print(\"目前进行处理\")\n",
    "            result = theML(self.data)\n",
    "\n",
    "            self.feedback_data =(\"接收到\\\"\"+self.data+\n",
    "                                 \"\\\":Server端返回的是\\n\"+str(result)).encode(\"utf8\")\n",
    "            print(\"发送成功\")\n",
    "            self.request.sendall(self.feedback_data)\n",
    "\n",
    "host = '127.0.0.1'\n",
    "port = 8081\n",
    "server = socketserver.ThreadingTCPServer((host,port),myTCPhandler)\n",
    "server.serve_forever()\n"
   ]
  }
 ],
 "metadata": {
  "kernelspec": {
   "display_name": "tensorflow",
   "language": "python",
   "name": "python3"
  },
  "language_info": {
   "codemirror_mode": {
    "name": "ipython",
    "version": 3
   },
   "file_extension": ".py",
   "mimetype": "text/x-python",
   "name": "python",
   "nbconvert_exporter": "python",
   "pygments_lexer": "ipython3",
   "version": "3.9.13"
  },
  "orig_nbformat": 4
 },
 "nbformat": 4,
 "nbformat_minor": 2
}
